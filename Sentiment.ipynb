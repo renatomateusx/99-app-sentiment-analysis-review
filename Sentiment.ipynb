{
  "cells": [
    {
      "cell_type": "code",
      "source": [
        "# Checking tensorflow version"
      ],
      "metadata": {
        "id": "PbNJVmG50end"
      },
      "execution_count": null,
      "outputs": []
    },
    {
      "cell_type": "code",
      "execution_count": 21,
      "metadata": {
        "colab": {
          "base_uri": "https://localhost:8080/"
        },
        "id": "v0fo8OYG-JwS",
        "outputId": "69e9dc20-cf85-4334-8dea-9f530bc11f57"
      },
      "outputs": [
        {
          "output_type": "stream",
          "name": "stdout",
          "text": [
            "Colab only includes TensorFlow 2.x; %tensorflow_version has no effect.\n"
          ]
        }
      ],
      "source": [
        "try:\n",
        "  # %tensorflow_version only exists in Colab.\n",
        "  %tensorflow_version 2.x\n",
        "except Exception:\n",
        "  pass"
      ]
    },
    {
      "cell_type": "code",
      "source": [
        "# Mounting Drive"
      ],
      "metadata": {
        "id": "uBwl0Dzv0i1U"
      },
      "execution_count": null,
      "outputs": []
    },
    {
      "cell_type": "code",
      "execution_count": 22,
      "metadata": {
        "colab": {
          "base_uri": "https://localhost:8080/"
        },
        "id": "A4-SAgUcm2pE",
        "outputId": "9ad592f1-6f12-4ec1-c9c7-3556edfdfad5"
      },
      "outputs": [
        {
          "output_type": "stream",
          "name": "stdout",
          "text": [
            "Drive already mounted at /content/drive; to attempt to forcibly remount, call drive.mount(\"/content/drive\", force_remount=True).\n"
          ]
        }
      ],
      "source": [
        "from google.colab import drive\n",
        "\n",
        "drive.mount('/content/drive')"
      ]
    },
    {
      "cell_type": "code",
      "source": [
        "# Importing everything is needed."
      ],
      "metadata": {
        "id": "20QeE-b90lTh"
      },
      "execution_count": null,
      "outputs": []
    },
    {
      "cell_type": "code",
      "execution_count": 23,
      "metadata": {
        "colab": {
          "base_uri": "https://localhost:8080/"
        },
        "id": "hcMdwB6Z-qHB",
        "outputId": "4a7cac2c-7f8f-4b5a-bdec-6e726713ba08"
      },
      "outputs": [
        {
          "output_type": "stream",
          "name": "stderr",
          "text": [
            "[nltk_data] Downloading package stopwords to /root/nltk_data...\n",
            "[nltk_data]   Package stopwords is already up-to-date!\n"
          ]
        }
      ],
      "source": [
        "from __future__ import absolute_import, division, print_function, unicode_literals\n",
        "import functools\n",
        "import nltk\n",
        "nltk.download('stopwords')\n",
        "\n",
        "import numpy as np\n",
        "import tensorflow as tf\n",
        "from google.colab import files\n",
        "import pandas as pd\n",
        "import numpy as np\n",
        "import matplotlib.pyplot as plt\n",
        "import seaborn as sns\n",
        "from tensorflow.keras.preprocessing.text import Tokenizer\n",
        "from tensorflow.keras.preprocessing.sequence import pad_sequences\n",
        "\n",
        "\n",
        "tokenizer = Tokenizer(oov_token=\"<OOV>\")\n",
        "from nltk.corpus import stopwords\n",
        "STOPWORDS = set(stopwords.words('english'))"
      ]
    },
    {
      "cell_type": "code",
      "execution_count": 24,
      "metadata": {
        "id": "J63FXkjq_FNq"
      },
      "outputs": [],
      "source": [
        "# Reading .CSV file\n",
        "file_link = \"/content/drive/MyDrive/PublicAIData/amazon_baby.csv\"\n",
        "df = pd.read_csv(file_link, encoding='ISO-8859-1')"
      ]
    },
    {
      "cell_type": "code",
      "source": [
        "df.size"
      ],
      "metadata": {
        "colab": {
          "base_uri": "https://localhost:8080/"
        },
        "id": "wTukktprS7fy",
        "outputId": "e1e5b7ea-3aba-4c0b-b1d9-d9dd07f099fc"
      },
      "execution_count": 25,
      "outputs": [
        {
          "output_type": "execute_result",
          "data": {
            "text/plain": [
              "550593"
            ]
          },
          "metadata": {},
          "execution_count": 25
        }
      ]
    },
    {
      "cell_type": "code",
      "source": [
        "# Adding sentiment for learning properly"
      ],
      "metadata": {
        "id": "wEIa-hJN0tzT"
      },
      "execution_count": null,
      "outputs": []
    },
    {
      "cell_type": "code",
      "execution_count": 26,
      "metadata": {
        "id": "5TI5Joj-AchZ"
      },
      "outputs": [],
      "source": [
        "df['sentiments'] = df.rating.apply(lambda x: 0 if x in [1, 2] else 1)"
      ]
    },
    {
      "cell_type": "code",
      "source": [
        "# Splitting the data into training and testing"
      ],
      "metadata": {
        "id": "60DdIL9X0x84"
      },
      "execution_count": null,
      "outputs": []
    },
    {
      "cell_type": "code",
      "execution_count": 27,
      "metadata": {
        "id": "AA8PCsJ8AgJv"
      },
      "outputs": [],
      "source": [
        "split = round(len(df)*0.8)\n",
        "train_reviews = df['review'][:split]\n",
        "train_label = df['sentiments'][:split]\n",
        "test_reviews = df['review'][split:]\n",
        "test_label = df['sentiments'][split:]"
      ]
    },
    {
      "cell_type": "code",
      "source": [
        "train_reviews.tail()"
      ],
      "metadata": {
        "colab": {
          "base_uri": "https://localhost:8080/"
        },
        "id": "k2VHboV3N9Gb",
        "outputId": "e14e24da-6c3d-47b7-9f41-555ab80357dd"
      },
      "execution_count": 28,
      "outputs": [
        {
          "output_type": "execute_result",
          "data": {
            "text/plain": [
              "146820    I ordered this based upon the good reviews tha...\n",
              "146821    Purchased this stroller for our trip and I lov...\n",
              "146822    Very good quality, color, love it!!! Just was ...\n",
              "146823    This is a great umbrella stroller, all my frie...\n",
              "146824    I am a very active mom and used my carseat/str...\n",
              "Name: review, dtype: object"
            ]
          },
          "metadata": {},
          "execution_count": 28
        }
      ]
    },
    {
      "cell_type": "code",
      "source": [
        "# In order to avoid any issues for casting to str, we'll create a object for doing this step."
      ],
      "metadata": {
        "id": "K3HyetY603o1"
      },
      "execution_count": null,
      "outputs": []
    },
    {
      "cell_type": "code",
      "execution_count": 29,
      "metadata": {
        "id": "hHIwx1KeBucP"
      },
      "outputs": [],
      "source": [
        "training_sentences = []\n",
        "training_labels = []\n",
        "testing_sentences = []\n",
        "testing_labels = []\n",
        "for row in train_reviews:\n",
        "    training_sentences.append(str(row))\n",
        "for row in train_label:\n",
        "    training_labels.append(row)\n",
        "for row in test_reviews:\n",
        "    testing_sentences.append(str(row))\n",
        "for row in test_label:\n",
        "    testing_labels.append(row)"
      ]
    },
    {
      "cell_type": "markdown",
      "metadata": {
        "id": "QZpVdcQnCPcU"
      },
      "source": [
        "Defining static values."
      ]
    },
    {
      "cell_type": "code",
      "execution_count": 30,
      "metadata": {
        "id": "S6cqGzIZCRVx"
      },
      "outputs": [],
      "source": [
        "vocab_size = 40000\n",
        "embedding_dim = 16\n",
        "max_length = 120\n",
        "trunc_type = 'post'\n",
        "oov_tok = '<OOV>'\n",
        "padding_type = 'post'"
      ]
    },
    {
      "cell_type": "code",
      "source": [
        "# Tokenizer for the senteces"
      ],
      "metadata": {
        "id": "xlatoXsv0_ke"
      },
      "execution_count": null,
      "outputs": []
    },
    {
      "cell_type": "code",
      "execution_count": 31,
      "metadata": {
        "id": "TicPgU5dCSCz"
      },
      "outputs": [],
      "source": [
        "tokenizer = Tokenizer(num_words=vocab_size, oov_token=oov_tok)\n",
        "tokenizer.fit_on_texts(training_sentences)\n",
        "word_index = tokenizer.word_index"
      ]
    },
    {
      "cell_type": "code",
      "source": [
        "# Seq and padded"
      ],
      "metadata": {
        "id": "rImijvX51Bbz"
      },
      "execution_count": null,
      "outputs": []
    },
    {
      "cell_type": "code",
      "execution_count": 32,
      "metadata": {
        "id": "aZkoJ_ywCUNd"
      },
      "outputs": [],
      "source": [
        "sequences = tokenizer.texts_to_sequences(training_sentences)\n",
        "padded = pad_sequences(sequences, maxlen=max_length, truncating=trunc_type)\n",
        "testing_sentences = tokenizer.texts_to_sequences(testing_sentences)\n",
        "testing_padded = pad_sequences(testing_sentences, maxlen=max_length)"
      ]
    },
    {
      "cell_type": "code",
      "execution_count": null,
      "metadata": {
        "id": "CV9BLEwRCXee"
      },
      "outputs": [],
      "source": [
        "#Model creation."
      ]
    },
    {
      "cell_type": "code",
      "execution_count": 33,
      "metadata": {
        "id": "s9ofCDrSCbZQ"
      },
      "outputs": [],
      "source": [
        "model = tf.keras.Sequential([\n",
        "    tf.keras.layers.Embedding(vocab_size, embedding_dim, input_length=max_length),\n",
        "    tf.keras.layers.Flatten(),\n",
        "    tf.keras.layers.Dense(24, activation='relu'),\n",
        "    tf.keras.layers.Dense(12, activation='relu'),\n",
        "    tf.keras.layers.Dense(1, activation='sigmoid')\n",
        "])"
      ]
    },
    {
      "cell_type": "code",
      "execution_count": 16,
      "metadata": {
        "id": "U4b_Ew8aCk9-"
      },
      "outputs": [],
      "source": [
        "#Compile model."
      ]
    },
    {
      "cell_type": "code",
      "execution_count": 34,
      "metadata": {
        "id": "eQAiPfwYCmWJ"
      },
      "outputs": [],
      "source": [
        "model.compile(loss='binary_crossentropy', optimizer='adam', metrics=['accuracy'])"
      ]
    },
    {
      "cell_type": "code",
      "execution_count": 18,
      "metadata": {
        "id": "wg69IPRjCm3G"
      },
      "outputs": [],
      "source": [
        "#Model Summary"
      ]
    },
    {
      "cell_type": "code",
      "execution_count": 35,
      "metadata": {
        "colab": {
          "base_uri": "https://localhost:8080/"
        },
        "id": "6ee4O0rNCpa7",
        "outputId": "c141bea6-4581-45ee-db92-aaf08391d6cf"
      },
      "outputs": [
        {
          "output_type": "stream",
          "name": "stdout",
          "text": [
            "Model: \"sequential_1\"\n",
            "_________________________________________________________________\n",
            " Layer (type)                Output Shape              Param #   \n",
            "=================================================================\n",
            " embedding_1 (Embedding)     (None, 120, 16)           640000    \n",
            "                                                                 \n",
            " flatten_1 (Flatten)         (None, 1920)              0         \n",
            "                                                                 \n",
            " dense_2 (Dense)             (None, 24)                46104     \n",
            "                                                                 \n",
            " dense_3 (Dense)             (None, 12)                300       \n",
            "                                                                 \n",
            " dense_4 (Dense)             (None, 1)                 13        \n",
            "                                                                 \n",
            "=================================================================\n",
            "Total params: 686417 (2.62 MB)\n",
            "Trainable params: 686417 (2.62 MB)\n",
            "Non-trainable params: 0 (0.00 Byte)\n",
            "_________________________________________________________________\n"
          ]
        }
      ],
      "source": [
        "model.summary()"
      ]
    },
    {
      "cell_type": "code",
      "execution_count": 20,
      "metadata": {
        "id": "RO40hHOZCsjp"
      },
      "outputs": [],
      "source": [
        "#Training the model."
      ]
    },
    {
      "cell_type": "code",
      "execution_count": 36,
      "metadata": {
        "id": "eSBr_TcRCuAo"
      },
      "outputs": [],
      "source": [
        "training_labels_final = np.array(training_labels)\n",
        "testing_labels_final = np.array(testing_labels)"
      ]
    },
    {
      "cell_type": "code",
      "execution_count": 37,
      "metadata": {
        "colab": {
          "base_uri": "https://localhost:8080/"
        },
        "id": "qsA1JvGGCubh",
        "outputId": "4d8f1b1a-f31e-4bd4-e301-c1c9f6a55862"
      },
      "outputs": [
        {
          "output_type": "stream",
          "name": "stdout",
          "text": [
            "Epoch 1/10\n",
            "4589/4589 [==============================] - 58s 12ms/step - loss: 0.2372 - accuracy: 0.9018 - val_loss: 0.1960 - val_accuracy: 0.9194\n",
            "Epoch 2/10\n",
            "4589/4589 [==============================] - 28s 6ms/step - loss: 0.1695 - accuracy: 0.9304 - val_loss: 0.2047 - val_accuracy: 0.9181\n",
            "Epoch 3/10\n",
            "4589/4589 [==============================] - 22s 5ms/step - loss: 0.1055 - accuracy: 0.9596 - val_loss: 0.2653 - val_accuracy: 0.9079\n",
            "Epoch 4/10\n",
            "4589/4589 [==============================] - 24s 5ms/step - loss: 0.0586 - accuracy: 0.9781 - val_loss: 0.3484 - val_accuracy: 0.9037\n",
            "Epoch 5/10\n",
            "4589/4589 [==============================] - 22s 5ms/step - loss: 0.0358 - accuracy: 0.9870 - val_loss: 0.4406 - val_accuracy: 0.8977\n",
            "Epoch 6/10\n",
            "4589/4589 [==============================] - 23s 5ms/step - loss: 0.0246 - accuracy: 0.9914 - val_loss: 0.5132 - val_accuracy: 0.8980\n",
            "Epoch 7/10\n",
            "4589/4589 [==============================] - 23s 5ms/step - loss: 0.0185 - accuracy: 0.9937 - val_loss: 0.5554 - val_accuracy: 0.8978\n",
            "Epoch 8/10\n",
            "4589/4589 [==============================] - 22s 5ms/step - loss: 0.0137 - accuracy: 0.9954 - val_loss: 0.6691 - val_accuracy: 0.9009\n",
            "Epoch 9/10\n",
            "4589/4589 [==============================] - 22s 5ms/step - loss: 0.0127 - accuracy: 0.9958 - val_loss: 0.6725 - val_accuracy: 0.8995\n",
            "Epoch 10/10\n",
            "4589/4589 [==============================] - 21s 5ms/step - loss: 0.0106 - accuracy: 0.9965 - val_loss: 0.7125 - val_accuracy: 0.8980\n"
          ]
        }
      ],
      "source": [
        "num_epochs = 10\n",
        "history = model.fit(padded, training_labels_final, epochs=num_epochs, validation_data=(testing_padded, testing_labels_final))\n",
        "\n"
      ]
    },
    {
      "cell_type": "code",
      "execution_count": 24,
      "metadata": {
        "id": "FEIGlhm_CxmO"
      },
      "outputs": [],
      "source": [
        "#Ploting the graph"
      ]
    },
    {
      "cell_type": "code",
      "source": [
        "%matplotlib inline\n",
        "import matplotlib.pyplot as plt\n",
        "import matplotlib.image as mpimg\n",
        "acc = history.history['accuracy']\n",
        "val_acc = history.history['val_accuracy']\n",
        "loss = history.history['loss']\n",
        "val_loss = history.history['val_loss']\n",
        "epochs=range(len(acc))\n",
        "plt.plot(epochs, acc, 'r', 'Training Accuracy')\n",
        "plt.plot(epochs, val_acc, 'b', 'Validation Accuracy')\n",
        "plt.title('Training and validation accuracy')\n",
        "plt.figure()\n",
        "plt.plot(epochs, loss, 'r', 'Training Loss')\n",
        "plt.plot(epochs, val_loss, 'b', 'Validation Loss')\n",
        "plt.title('Training and validation loss')\n",
        "plt.figure()"
      ],
      "metadata": {
        "colab": {
          "base_uri": "https://localhost:8080/",
          "height": 923
        },
        "id": "Ce2IU105qA01",
        "outputId": "119ae49f-60ea-4ebd-ca52-57c8349c1b95"
      },
      "execution_count": 38,
      "outputs": [
        {
          "output_type": "execute_result",
          "data": {
            "text/plain": [
              "<Figure size 640x480 with 0 Axes>"
            ]
          },
          "metadata": {},
          "execution_count": 38
        },
        {
          "output_type": "display_data",
          "data": {
            "text/plain": [
              "<Figure size 640x480 with 1 Axes>"
            ],
            "image/png": "[encoded data removed]"
          },
          "metadata": {}
        },
        {
          "output_type": "display_data",
          "data": {
            "text/plain": [
              "<Figure size 640x480 with 1 Axes>"
            ],
            "image/png": "[encoded data removed]"
          },
          "metadata": {}
        },
        {
          "output_type": "display_data",
          "data": {
            "text/plain": [
              "<Figure size 640x480 with 0 Axes>"
            ]
          },
          "metadata": {}
        }
      ]
    },
    {
      "cell_type": "code",
      "execution_count": 30,
      "metadata": {
        "id": "ekTbF-pqC4Zb"
      },
      "outputs": [],
      "source": [
        "# result = model.predict"
      ]
    },
    {
      "cell_type": "code",
      "source": [
        "# you can also use a google play or app store for fetching the app reviews and define which sentiment it contains."
      ],
      "metadata": {
        "id": "lIJdP9oc1mtF"
      },
      "execution_count": null,
      "outputs": []
    },
    {
      "cell_type": "code",
      "execution_count": 57,
      "metadata": {
        "colab": {
          "base_uri": "https://localhost:8080/"
        },
        "id": "sVIOAqiRKp5W",
        "outputId": "3c327c61-43dd-40ee-c69f-ca5faa2070b9"
      },
      "outputs": [
        {
          "output_type": "stream",
          "name": "stdout",
          "text": [
            "1/1 [==============================] - 0s 20ms/step\n",
            "Review: Im so glad I find this app! - Sentiment: [0.7951198]\n",
            "\n",
            "Review: This app is so boring - Sentiment: [0.4732494]\n",
            "\n",
            "Review: This app is so hilarious. I had a really great time! - Sentiment: [0.7758021]\n",
            "\n",
            "Review: Very linear scenario, no surprises at all. - Sentiment: [0.01600182]\n",
            "\n",
            "Review: Another amazing feature addition to the app with good improvements. - Sentiment: [0.91387874]\n",
            "\n",
            "Review: This is a disaster app - Sentiment: [0.48032495]\n",
            "\n"
          ]
        }
      ],
      "source": [
        "new_sentences = [\n",
        "    'Im so glad I find this app!',\n",
        "    'This app is so boring',\n",
        "    'This app is so hilarious. I had a really great time!',\n",
        "    'Very linear scenario, no surprises at all.',\n",
        "    'Another amazing feature addition to the app with good improvements.',\n",
        "    'This is a disaster app'\n",
        "    ]\n",
        "\n",
        "new_sequences = tokenizer.texts_to_sequences(new_sentences)\n",
        "padded=pad_sequences(new_sequences, maxlen=max_length,truncating=trunc_type)\n",
        "output=model.predict(padded)\n",
        "\n",
        "for i in range(0,len(new_sentences)):\n",
        "    print('Review: '+new_sentences[i]+''+' - Sentiment: '+str(output[i])+'\\n')"
      ]
    },
    {
      "cell_type": "code",
      "source": [
        "#Saving the model"
      ],
      "metadata": {
        "id": "KzWxA0xT1VZ9"
      },
      "execution_count": null,
      "outputs": []
    },
    {
      "cell_type": "code",
      "execution_count": 58,
      "metadata": {
        "colab": {
          "base_uri": "https://localhost:8080/"
        },
        "id": "PzypRGQoM4cq",
        "outputId": "e256c709-f37f-4a7f-b4c5-5976acd104fc"
      },
      "outputs": [
        {
          "output_type": "stream",
          "name": "stderr",
          "text": [
            "/usr/local/lib/python3.10/dist-packages/keras/src/engine/training.py:3103: UserWarning: You are saving your model as an HDF5 file via `model.save()`. This file format is considered legacy. We recommend using instead the native Keras format, e.g. `model.save('my_model.keras')`.\n",
            "  saving_api.save_model(\n"
          ]
        }
      ],
      "source": [
        "import os\n",
        "directory = os.path.join(os.getcwd(), 'comment_predict_models')\n",
        "if not os.path.isdir(directory):\n",
        "  os.makedirs(directory)\n",
        "model_path = os.path.join(directory, 'app_review_trained_model.h5')\n",
        "model.save(model_path)"
      ]
    },
    {
      "cell_type": "code",
      "source": [
        "# Downloading the model"
      ],
      "metadata": {
        "id": "8_fz7NWB1W4P"
      },
      "execution_count": null,
      "outputs": []
    },
    {
      "cell_type": "code",
      "source": [
        "from google.colab import files\n",
        "files.download(os.path.join(directory, 'app_review_trained_model.h5'))"
      ],
      "metadata": {
        "colab": {
          "base_uri": "https://localhost:8080/",
          "height": 34
        },
        "id": "DF7pxbhrSkT_",
        "outputId": "77451770-bd2f-4c75-d149-68b3c2b34a6b"
      },
      "execution_count": 59,
      "outputs": [
        {
          "output_type": "display_data",
          "data": {
            "text/plain": [
              "<IPython.core.display.Javascript object>"
            ],
            "application/javascript": [
              "\n",
              "    async function download(id, filename, size) {\n",
              "      if (!google.colab.kernel.accessAllowed) {\n",
              "        return;\n",
              "      }\n",
              "      const div = document.createElement('div');\n",
              "      const label = document.createElement('label');\n",
              "      label.textContent = `Downloading \"${filename}\": `;\n",
              "      div.appendChild(label);\n",
              "      const progress = document.createElement('progress');\n",
              "      progress.max = size;\n",
              "      div.appendChild(progress);\n",
              "      document.body.appendChild(div);\n",
              "\n",
              "      const buffers = [];\n",
              "      let downloaded = 0;\n",
              "\n",
              "      const channel = await google.colab.kernel.comms.open(id);\n",
              "      // Send a message to notify the kernel that we're ready.\n",
              "      channel.send({})\n",
              "\n",
              "      for await (const message of channel.messages) {\n",
              "        // Send a message to notify the kernel that we're ready.\n",
              "        channel.send({})\n",
              "        if (message.buffers) {\n",
              "          for (const buffer of message.buffers) {\n",
              "            buffers.push(buffer);\n",
              "            downloaded += buffer.byteLength;\n",
              "            progress.value = downloaded;\n",
              "          }\n",
              "        }\n",
              "      }\n",
              "      const blob = new Blob(buffers, {type: 'application/binary'});\n",
              "      const a = document.createElement('a');\n",
              "      a.href = window.URL.createObjectURL(blob);\n",
              "      a.download = filename;\n",
              "      div.appendChild(a);\n",
              "      a.click();\n",
              "      div.remove();\n",
              "    }\n",
              "  "
            ]
          },
          "metadata": {}
        },
        {
          "output_type": "display_data",
          "data": {
            "text/plain": [
              "<IPython.core.display.Javascript object>"
            ],
            "application/javascript": [
              "download(\"download_f96e8f1d-1d1c-4f4b-baaf-f1faa4e5e74a\", \"app_review_trained_model.h5\", 8277560)"
            ]
          },
          "metadata": {}
        }
      ]
    }
  ],
  "metadata": {
    "accelerator": "GPU",
    "colab": {
      "provenance": [],
      "gpuType": "T4"
    },
    "kernelspec": {
      "display_name": "Python 3",
      "name": "python3"
    },
    "language_info": {
      "name": "python"
    }
  },
  "nbformat": 4,
  "nbformat_minor": 0
}