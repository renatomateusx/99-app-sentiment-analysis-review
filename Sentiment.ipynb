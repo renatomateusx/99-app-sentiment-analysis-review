{
  "cells": [
    {
      "cell_type": "code",
      "source": [
        "# Checking tensorflow version"
      ],
      "metadata": {
        "id": "PbNJVmG50end"
      },
      "execution_count": null,
      "outputs": []
    },
    {
      "cell_type": "code",
      "execution_count": 1,
      "metadata": {
        "colab": {
          "base_uri": "https://localhost:8080/"
        },
        "id": "v0fo8OYG-JwS",
        "outputId": "ad0d2377-9c94-4fb0-93b2-0eed34c57ef4"
      },
      "outputs": [
        {
          "output_type": "stream",
          "name": "stdout",
          "text": [
            "Colab only includes TensorFlow 2.x; %tensorflow_version has no effect.\n"
          ]
        }
      ],
      "source": [
        "try:\n",
        "  # %tensorflow_version only exists in Colab.\n",
        "  %tensorflow_version 2.x\n",
        "except Exception:\n",
        "  pass"
      ]
    },
    {
      "cell_type": "code",
      "source": [
        "# Mounting Drive"
      ],
      "metadata": {
        "id": "uBwl0Dzv0i1U"
      },
      "execution_count": null,
      "outputs": []
    },
    {
      "cell_type": "code",
      "execution_count": 2,
      "metadata": {
        "colab": {
          "base_uri": "https://localhost:8080/"
        },
        "id": "A4-SAgUcm2pE",
        "outputId": "21e28dcb-9fdc-4d32-a07a-840eb4570454"
      },
      "outputs": [
        {
          "output_type": "stream",
          "name": "stdout",
          "text": [
            "Mounted at /content/drive\n"
          ]
        }
      ],
      "source": [
        "from google.colab import drive\n",
        "\n",
        "drive.mount('/content/drive')"
      ]
    },
    {
      "cell_type": "code",
      "source": [
        "# Importing everything is needed."
      ],
      "metadata": {
        "id": "20QeE-b90lTh"
      },
      "execution_count": null,
      "outputs": []
    },
    {
      "cell_type": "code",
      "execution_count": 3,
      "metadata": {
        "colab": {
          "base_uri": "https://localhost:8080/"
        },
        "id": "hcMdwB6Z-qHB",
        "outputId": "e24db221-8bc4-4ad2-bd9b-63f31115a250"
      },
      "outputs": [
        {
          "output_type": "stream",
          "name": "stderr",
          "text": [
            "[nltk_data] Downloading package stopwords to /root/nltk_data...\n",
            "[nltk_data]   Unzipping corpora/stopwords.zip.\n"
          ]
        }
      ],
      "source": [
        "from __future__ import absolute_import, division, print_function, unicode_literals\n",
        "import functools\n",
        "import nltk\n",
        "nltk.download('stopwords')\n",
        "\n",
        "import numpy as np\n",
        "import tensorflow as tf\n",
        "from google.colab import files\n",
        "import pandas as pd\n",
        "import numpy as np\n",
        "import matplotlib.pyplot as plt\n",
        "import seaborn as sns\n",
        "from tensorflow.keras.preprocessing.text import Tokenizer\n",
        "from tensorflow.keras.preprocessing.sequence import pad_sequences\n",
        "\n",
        "\n",
        "tokenizer = Tokenizer(oov_token=\"<OOV>\")\n",
        "from nltk.corpus import stopwords\n",
        "STOPWORDS = set(stopwords.words('english'))"
      ]
    },
    {
      "cell_type": "code",
      "execution_count": 4,
      "metadata": {
        "id": "J63FXkjq_FNq"
      },
      "outputs": [],
      "source": [
        "# Reading .CSV file\n",
        "file_link = \"/content/drive/MyDrive/PublicAIData/app_reviews.csv\"\n",
        "df = pd.read_csv(file_link, encoding='ISO-8859-1')"
      ]
    },
    {
      "cell_type": "code",
      "source": [
        "df.size"
      ],
      "metadata": {
        "colab": {
          "base_uri": "https://localhost:8080/"
        },
        "id": "wTukktprS7fy",
        "outputId": "88270c30-9a83-4404-c87e-3ff7028ece17"
      },
      "execution_count": 5,
      "outputs": [
        {
          "output_type": "execute_result",
          "data": {
            "text/plain": [
              "149940"
            ]
          },
          "metadata": {},
          "execution_count": 5
        }
      ]
    },
    {
      "cell_type": "code",
      "source": [
        "# Adding sentiment for learning properly"
      ],
      "metadata": {
        "id": "wEIa-hJN0tzT"
      },
      "execution_count": null,
      "outputs": []
    },
    {
      "cell_type": "code",
      "execution_count": 6,
      "metadata": {
        "id": "5TI5Joj-AchZ"
      },
      "outputs": [],
      "source": [
        "df['sentiments'] = df.score.apply(lambda x: 0 if x in [1, 2] else 1)"
      ]
    },
    {
      "cell_type": "code",
      "source": [
        "# Splitting the data into training and testing"
      ],
      "metadata": {
        "id": "60DdIL9X0x84"
      },
      "execution_count": null,
      "outputs": []
    },
    {
      "cell_type": "code",
      "execution_count": 7,
      "metadata": {
        "id": "AA8PCsJ8AgJv"
      },
      "outputs": [],
      "source": [
        "split = round(len(df)*0.8)\n",
        "train_reviews = df['content'][:split]\n",
        "train_label = df['sentiments'][:split]\n",
        "test_reviews = df['content'][split:]\n",
        "test_label = df['sentiments'][split:]"
      ]
    },
    {
      "cell_type": "code",
      "source": [
        "train_reviews.tail()"
      ],
      "metadata": {
        "colab": {
          "base_uri": "https://localhost:8080/"
        },
        "id": "k2VHboV3N9Gb",
        "outputId": "749edad8-728a-4050-cc01-c472d8a5b22a"
      },
      "execution_count": 8,
      "outputs": [
        {
          "output_type": "execute_result",
          "data": {
            "text/plain": [
              "9991    Tasks that repeat more than once daily dont wo...\n",
              "9992    Decent app but does NOT seem to be able to syn...\n",
              "9993    I keep completing tasks, and the next day they...\n",
              "9994    PLEASE make a home screen where it shows your ...\n",
              "9995    trying to switch from wunderlist and the impor...\n",
              "Name: content, dtype: object"
            ]
          },
          "metadata": {},
          "execution_count": 8
        }
      ]
    },
    {
      "cell_type": "code",
      "source": [
        "# In order to avoid any issues for casting to str, we'll create a object for doing this step."
      ],
      "metadata": {
        "id": "K3HyetY603o1"
      },
      "execution_count": null,
      "outputs": []
    },
    {
      "cell_type": "code",
      "execution_count": 9,
      "metadata": {
        "id": "hHIwx1KeBucP"
      },
      "outputs": [],
      "source": [
        "training_sentences = []\n",
        "training_labels = []\n",
        "testing_sentences = []\n",
        "testing_labels = []\n",
        "for row in train_reviews:\n",
        "    training_sentences.append(str(row))\n",
        "for row in train_label:\n",
        "    training_labels.append(row)\n",
        "for row in test_reviews:\n",
        "    testing_sentences.append(str(row))\n",
        "for row in test_label:\n",
        "    testing_labels.append(row)"
      ]
    },
    {
      "cell_type": "markdown",
      "metadata": {
        "id": "QZpVdcQnCPcU"
      },
      "source": [
        "Defining static values."
      ]
    },
    {
      "cell_type": "code",
      "execution_count": 10,
      "metadata": {
        "id": "S6cqGzIZCRVx"
      },
      "outputs": [],
      "source": [
        "vocab_size = 40000\n",
        "embedding_dim = 16\n",
        "max_length = 120\n",
        "trunc_type = 'post'\n",
        "oov_tok = '<OOV>'\n",
        "padding_type = 'post'"
      ]
    },
    {
      "cell_type": "code",
      "source": [
        "# Tokenizer for the senteces"
      ],
      "metadata": {
        "id": "xlatoXsv0_ke"
      },
      "execution_count": null,
      "outputs": []
    },
    {
      "cell_type": "code",
      "execution_count": 11,
      "metadata": {
        "id": "TicPgU5dCSCz"
      },
      "outputs": [],
      "source": [
        "tokenizer = Tokenizer(num_words=vocab_size, oov_token=oov_tok)\n",
        "tokenizer.fit_on_texts(training_sentences)\n",
        "word_index = tokenizer.word_index"
      ]
    },
    {
      "cell_type": "code",
      "source": [
        "# Seq and padded"
      ],
      "metadata": {
        "id": "rImijvX51Bbz"
      },
      "execution_count": null,
      "outputs": []
    },
    {
      "cell_type": "code",
      "execution_count": 12,
      "metadata": {
        "id": "aZkoJ_ywCUNd"
      },
      "outputs": [],
      "source": [
        "sequences = tokenizer.texts_to_sequences(training_sentences)\n",
        "padded = pad_sequences(sequences, maxlen=max_length, truncating=trunc_type)\n",
        "testing_sentences = tokenizer.texts_to_sequences(testing_sentences)\n",
        "testing_padded = pad_sequences(testing_sentences, maxlen=max_length)"
      ]
    },
    {
      "cell_type": "code",
      "execution_count": null,
      "metadata": {
        "id": "CV9BLEwRCXee"
      },
      "outputs": [],
      "source": [
        "#Model creation."
      ]
    },
    {
      "cell_type": "code",
      "execution_count": 13,
      "metadata": {
        "id": "s9ofCDrSCbZQ"
      },
      "outputs": [],
      "source": [
        "model = tf.keras.Sequential([\n",
        "    tf.keras.layers.Embedding(vocab_size, embedding_dim, input_length=max_length),\n",
        "    tf.keras.layers.Flatten(),\n",
        "    tf.keras.layers.Dense(24, activation='relu'),\n",
        "    tf.keras.layers.Dense(12, activation='relu'),\n",
        "    tf.keras.layers.Dense(1, activation='sigmoid')\n",
        "])"
      ]
    },
    {
      "cell_type": "code",
      "execution_count": null,
      "metadata": {
        "id": "U4b_Ew8aCk9-"
      },
      "outputs": [],
      "source": [
        "#Compile model."
      ]
    },
    {
      "cell_type": "code",
      "execution_count": 14,
      "metadata": {
        "id": "eQAiPfwYCmWJ"
      },
      "outputs": [],
      "source": [
        "model.compile(loss='binary_crossentropy', optimizer='adam', metrics=['accuracy'])"
      ]
    },
    {
      "cell_type": "code",
      "execution_count": null,
      "metadata": {
        "id": "wg69IPRjCm3G"
      },
      "outputs": [],
      "source": [
        "#Model Summary"
      ]
    },
    {
      "cell_type": "code",
      "execution_count": 15,
      "metadata": {
        "colab": {
          "base_uri": "https://localhost:8080/"
        },
        "id": "6ee4O0rNCpa7",
        "outputId": "4c0ae272-5ba9-4b72-a108-4a3444e86247"
      },
      "outputs": [
        {
          "output_type": "stream",
          "name": "stdout",
          "text": [
            "Model: \"sequential\"\n",
            "_________________________________________________________________\n",
            " Layer (type)                Output Shape              Param #   \n",
            "=================================================================\n",
            " embedding (Embedding)       (None, 120, 16)           640000    \n",
            "                                                                 \n",
            " flatten (Flatten)           (None, 1920)              0         \n",
            "                                                                 \n",
            " dense (Dense)               (None, 24)                46104     \n",
            "                                                                 \n",
            " dense_1 (Dense)             (None, 12)                300       \n",
            "                                                                 \n",
            " dense_2 (Dense)             (None, 1)                 13        \n",
            "                                                                 \n",
            "=================================================================\n",
            "Total params: 686417 (2.62 MB)\n",
            "Trainable params: 686417 (2.62 MB)\n",
            "Non-trainable params: 0 (0.00 Byte)\n",
            "_________________________________________________________________\n"
          ]
        }
      ],
      "source": [
        "model.summary()"
      ]
    },
    {
      "cell_type": "code",
      "execution_count": null,
      "metadata": {
        "id": "RO40hHOZCsjp"
      },
      "outputs": [],
      "source": [
        "#Training the model."
      ]
    },
    {
      "cell_type": "code",
      "execution_count": 16,
      "metadata": {
        "id": "eSBr_TcRCuAo"
      },
      "outputs": [],
      "source": [
        "training_labels_final = np.array(training_labels)\n",
        "testing_labels_final = np.array(testing_labels)"
      ]
    },
    {
      "cell_type": "code",
      "execution_count": 17,
      "metadata": {
        "colab": {
          "base_uri": "https://localhost:8080/"
        },
        "id": "qsA1JvGGCubh",
        "outputId": "8d4d6b74-2336-4f3b-8e97-fe98801226a5"
      },
      "outputs": [
        {
          "output_type": "stream",
          "name": "stdout",
          "text": [
            "Epoch 1/10\n",
            "313/313 [==============================] - 38s 110ms/step - loss: 0.5971 - accuracy: 0.6656 - val_loss: 0.4588 - val_accuracy: 0.7803\n",
            "Epoch 2/10\n",
            "313/313 [==============================] - 11s 36ms/step - loss: 0.3837 - accuracy: 0.8337 - val_loss: 0.4339 - val_accuracy: 0.8031\n",
            "Epoch 3/10\n",
            "313/313 [==============================] - 5s 17ms/step - loss: 0.2538 - accuracy: 0.9045 - val_loss: 0.4872 - val_accuracy: 0.7915\n",
            "Epoch 4/10\n",
            "313/313 [==============================] - 5s 15ms/step - loss: 0.1426 - accuracy: 0.9547 - val_loss: 0.5742 - val_accuracy: 0.7803\n",
            "Epoch 5/10\n",
            "313/313 [==============================] - 5s 16ms/step - loss: 0.0806 - accuracy: 0.9760 - val_loss: 0.7002 - val_accuracy: 0.7811\n",
            "Epoch 6/10\n",
            "313/313 [==============================] - 4s 14ms/step - loss: 0.0518 - accuracy: 0.9857 - val_loss: 0.8072 - val_accuracy: 0.7683\n",
            "Epoch 7/10\n",
            "313/313 [==============================] - 3s 10ms/step - loss: 0.0374 - accuracy: 0.9909 - val_loss: 0.9463 - val_accuracy: 0.7647\n",
            "Epoch 8/10\n",
            "313/313 [==============================] - 3s 10ms/step - loss: 0.0309 - accuracy: 0.9916 - val_loss: 1.0604 - val_accuracy: 0.7699\n",
            "Epoch 9/10\n",
            "313/313 [==============================] - 3s 10ms/step - loss: 0.0264 - accuracy: 0.9933 - val_loss: 1.1391 - val_accuracy: 0.7547\n",
            "Epoch 10/10\n",
            "313/313 [==============================] - 2s 7ms/step - loss: 0.0247 - accuracy: 0.9930 - val_loss: 1.1561 - val_accuracy: 0.7655\n"
          ]
        }
      ],
      "source": [
        "num_epochs = 10\n",
        "history = model.fit(padded, training_labels_final, epochs=num_epochs, validation_data=(testing_padded, testing_labels_final))\n",
        "\n"
      ]
    },
    {
      "cell_type": "code",
      "execution_count": null,
      "metadata": {
        "id": "FEIGlhm_CxmO"
      },
      "outputs": [],
      "source": [
        "#Ploting the graph"
      ]
    },
    {
      "cell_type": "code",
      "source": [
        "%matplotlib inline\n",
        "import matplotlib.pyplot as plt\n",
        "import matplotlib.image as mpimg\n",
        "acc = history.history['accuracy']\n",
        "val_acc = history.history['val_accuracy']\n",
        "loss = history.history['loss']\n",
        "val_loss = history.history['val_loss']\n",
        "epochs=range(len(acc))\n",
        "plt.plot(epochs, acc, 'r', 'Training Accuracy')\n",
        "plt.plot(epochs, val_acc, 'b', 'Validation Accuracy')\n",
        "plt.title('Training and validation accuracy')\n",
        "plt.figure()\n",
        "plt.plot(epochs, loss, 'r', 'Training Loss')\n",
        "plt.plot(epochs, val_loss, 'b', 'Validation Loss')\n",
        "plt.title('Training and validation loss')\n",
        "plt.figure()"
      ],
      "metadata": {
        "colab": {
          "base_uri": "https://localhost:8080/",
          "height": 923
        },
        "id": "Ce2IU105qA01",
        "outputId": "d483f401-ff98-4e36-c77f-681fba3d3dea"
      },
      "execution_count": 18,
      "outputs": [
        {
          "output_type": "execute_result",
          "data": {
            "text/plain": [
              "<Figure size 640x480 with 0 Axes>"
            ]
          },
          "metadata": {},
          "execution_count": 18
        },
        {
          "output_type": "display_data",
          "data": {
            "text/plain": [
              "<Figure size 640x480 with 1 Axes>"
            ],
            "image/png": "[encoded data removed]"
          },
          "metadata": {}
        },
        {
          "output_type": "display_data",
          "data": {
            "text/plain": [
              "<Figure size 640x480 with 1 Axes>"
            ],
            "image/png": "[encoded data removed]"
          },
          "metadata": {}
        },
        {
          "output_type": "display_data",
          "data": {
            "text/plain": [
              "<Figure size 640x480 with 0 Axes>"
            ]
          },
          "metadata": {}
        }
      ]
    },
    {
      "cell_type": "code",
      "execution_count": null,
      "metadata": {
        "id": "ekTbF-pqC4Zb"
      },
      "outputs": [],
      "source": [
        "# result = model.predict"
      ]
    },
    {
      "cell_type": "code",
      "source": [
        "# you can also use a google play or app store for fetching the app reviews and define which sentiment it contains."
      ],
      "metadata": {
        "id": "lIJdP9oc1mtF"
      },
      "execution_count": null,
      "outputs": []
    },
    {
      "cell_type": "code",
      "execution_count": 20,
      "metadata": {
        "colab": {
          "base_uri": "https://localhost:8080/"
        },
        "id": "sVIOAqiRKp5W",
        "outputId": "1c7125bf-7cbd-4dc5-d842-83d40dea82d2"
      },
      "outputs": [
        {
          "output_type": "stream",
          "name": "stdout",
          "text": [
            "1/1 [==============================] - 0s 30ms/step\n",
            "Review: Im so glad I find this app! - Sentiment: [0.9995834]\n",
            "\n",
            "Review: This app is so boring - Sentiment: [0.00242707]\n",
            "\n",
            "Review: This app is so hilarious. I had a really great time! - Sentiment: [0.99924517]\n",
            "\n",
            "Review: Very linear scenario, no surprises at all. - Sentiment: [0.2766599]\n",
            "\n",
            "Review: Another amazing feature addition to the app with good improvements. - Sentiment: [0.9998062]\n",
            "\n",
            "Review: This app is a complete disaster - Sentiment: [0.21622656]\n",
            "\n"
          ]
        }
      ],
      "source": [
        "new_sentences = [\n",
        "    'Im so glad I find this app!',\n",
        "    'This app is so boring',\n",
        "    'This app is so hilarious. I had a really great time!',\n",
        "    'Very linear scenario, no surprises at all.',\n",
        "    'Another amazing feature addition to the app with good improvements.',\n",
        "    'This app is a complete disaster'\n",
        "    ]\n",
        "\n",
        "new_sequences = tokenizer.texts_to_sequences(new_sentences)\n",
        "padded=pad_sequences(new_sequences, maxlen=max_length,truncating=trunc_type)\n",
        "output=model.predict(padded)\n",
        "\n",
        "for i in range(0,len(new_sentences)):\n",
        "    print('Review: '+new_sentences[i]+''+' - Sentiment: '+str(output[i])+'\\n')"
      ]
    },
    {
      "cell_type": "code",
      "source": [
        "#Saving the model"
      ],
      "metadata": {
        "id": "KzWxA0xT1VZ9"
      },
      "execution_count": null,
      "outputs": []
    },
    {
      "cell_type": "code",
      "execution_count": 21,
      "metadata": {
        "colab": {
          "base_uri": "https://localhost:8080/"
        },
        "id": "PzypRGQoM4cq",
        "outputId": "5f2303bd-d202-412c-d290-50e4d4bfe15b"
      },
      "outputs": [
        {
          "output_type": "stream",
          "name": "stderr",
          "text": [
            "/usr/local/lib/python3.10/dist-packages/keras/src/engine/training.py:3103: UserWarning: You are saving your model as an HDF5 file via `model.save()`. This file format is considered legacy. We recommend using instead the native Keras format, e.g. `model.save('my_model.keras')`.\n",
            "  saving_api.save_model(\n"
          ]
        }
      ],
      "source": [
        "import os\n",
        "directory = os.path.join(os.getcwd(), 'comment_predict_models')\n",
        "if not os.path.isdir(directory):\n",
        "  os.makedirs(directory)\n",
        "model_path = os.path.join(directory, 'app_review_trained_model.h5')\n",
        "model.save(model_path)"
      ]
    },
    {
      "cell_type": "code",
      "source": [
        "# Downloading the model"
      ],
      "metadata": {
        "id": "8_fz7NWB1W4P"
      },
      "execution_count": null,
      "outputs": []
    },
    {
      "cell_type": "code",
      "source": [
        "from google.colab import files\n",
        "files.download(os.path.join(directory, 'app_review_trained_model.h5'))"
      ],
      "metadata": {
        "colab": {
          "base_uri": "https://localhost:8080/",
          "height": 34
        },
        "id": "DF7pxbhrSkT_",
        "outputId": "c38d2549-1ed7-477e-ec07-3fcb8f0ffca0"
      },
      "execution_count": 22,
      "outputs": [
        {
          "output_type": "display_data",
          "data": {
            "text/plain": [
              "<IPython.core.display.Javascript object>"
            ],
            "application/javascript": [
              "\n",
              "    async function download(id, filename, size) {\n",
              "      if (!google.colab.kernel.accessAllowed) {\n",
              "        return;\n",
              "      }\n",
              "      const div = document.createElement('div');\n",
              "      const label = document.createElement('label');\n",
              "      label.textContent = `Downloading \"${filename}\": `;\n",
              "      div.appendChild(label);\n",
              "      const progress = document.createElement('progress');\n",
              "      progress.max = size;\n",
              "      div.appendChild(progress);\n",
              "      document.body.appendChild(div);\n",
              "\n",
              "      const buffers = [];\n",
              "      let downloaded = 0;\n",
              "\n",
              "      const channel = await google.colab.kernel.comms.open(id);\n",
              "      // Send a message to notify the kernel that we're ready.\n",
              "      channel.send({})\n",
              "\n",
              "      for await (const message of channel.messages) {\n",
              "        // Send a message to notify the kernel that we're ready.\n",
              "        channel.send({})\n",
              "        if (message.buffers) {\n",
              "          for (const buffer of message.buffers) {\n",
              "            buffers.push(buffer);\n",
              "            downloaded += buffer.byteLength;\n",
              "            progress.value = downloaded;\n",
              "          }\n",
              "        }\n",
              "      }\n",
              "      const blob = new Blob(buffers, {type: 'application/binary'});\n",
              "      const a = document.createElement('a');\n",
              "      a.href = window.URL.createObjectURL(blob);\n",
              "      a.download = filename;\n",
              "      div.appendChild(a);\n",
              "      a.click();\n",
              "      div.remove();\n",
              "    }\n",
              "  "
            ]
          },
          "metadata": {}
        },
        {
          "output_type": "display_data",
          "data": {
            "text/plain": [
              "<IPython.core.display.Javascript object>"
            ],
            "application/javascript": [
              "download(\"download_6a5db0c6-7b85-4142-ab8a-db4130cc46b2\", \"app_review_trained_model.h5\", 8277656)"
            ]
          },
          "metadata": {}
        }
      ]
    }
  ],
  "metadata": {
    "accelerator": "GPU",
    "colab": {
      "provenance": [],
      "gpuType": "T4"
    },
    "kernelspec": {
      "display_name": "Python 3",
      "name": "python3"
    },
    "language_info": {
      "name": "python"
    }
  },
  "nbformat": 4,
  "nbformat_minor": 0
}